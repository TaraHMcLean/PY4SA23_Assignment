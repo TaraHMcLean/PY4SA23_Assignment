{
 "cells": [
  {
   "cell_type": "markdown",
   "id": "46530e13-5e6d-499b-8114-6056ee51c45a",
   "metadata": {},
   "source": [
    "## Lab Assignment 2 – Tara McLean)\n",
    "## 180017741\n",
    "\n",
    "### https://github.com/TaraHMcLean/PY4SA23_Assignment\n",
    "\n",
    "\n",
    "### Make sure you create the outcomes of all the code cells.\n",
    "\n",
    "Once your finish all the tasks, and your Notebook has been pushed to your recently\n",
    "created repository. Using the print option in the Jupyter Notebook, create a print version \n",
    "of the notebook as a PDF file and submitted based on the submission procedure (listed\n",
    "below)"
   ]
  },
  {
   "cell_type": "markdown",
   "id": "1e1f5f5c-6644-4718-83d6-2e440436ba63",
   "metadata": {},
   "source": [
    "## Assignment Tasks"
   ]
  },
  {
   "cell_type": "markdown",
   "id": "09b4977f-e33c-4e6d-a9b9-c1c3859ae1b0",
   "metadata": {},
   "source": [
    "### Python Basics\n"
   ]
  },
  {
   "cell_type": "code",
   "execution_count": 10,
   "id": "b474528d-d715-4fc9-b604-e4660ef2f77e",
   "metadata": {},
   "outputs": [
    {
     "name": "stdout",
     "output_type": "stream",
     "text": [
      "6 is divisible by 3.\n"
     ]
    }
   ],
   "source": [
    "# Task 1\n",
    "x = 6\n",
    "\n",
    "if x % 3 == 0:\n",
    "    print(str(x) + \" is divisible by 3.\")\n",
    "else:\n",
    "    print(str(x) + \" is not divisible by three.\")"
   ]
  },
  {
   "cell_type": "code",
   "execution_count": 30,
   "id": "7c968824-ad71-4d82-ac57-69e32510904a",
   "metadata": {},
   "outputs": [
    {
     "name": "stdout",
     "output_type": "stream",
     "text": [
      "orange is acceptable.\n"
     ]
    }
   ],
   "source": [
    "# Task 2\n",
    "\n",
    "acceptable_fruits = ['apple', 'orange', 'pear', 'kiwi', 'strawberry']\n",
    "\n",
    "x = 'orange'\n",
    "\n",
    "if x in  acceptable_fruits:\n",
    "    print (str(x) + \" is acceptable.\")\n",
    "else: \n",
    "    print(str(x) + \" is not acceptable.\")\n",
    "\n",
    "    #if 'A' in l1:\n",
    "    #print('A is present in the list')"
   ]
  },
  {
   "cell_type": "code",
   "execution_count": 58,
   "id": "f2d0a9fe-ad42-4c26-8436-cace327ea9d6",
   "metadata": {},
   "outputs": [
    {
     "name": "stdout",
     "output_type": "stream",
     "text": [
      "2\n"
     ]
    }
   ],
   "source": [
    "# Task 3\n",
    "\n",
    "from math import radians, cos, sin, asin, sqrt, atan\n",
    "from math import *\n",
    "\n",
    "\n",
    "# letters represent coordinates; example coordinates included for testing \n",
    "a= 3\n",
    "b=11\n",
    "c=2\n",
    "d=6\n",
    "\n",
    "lats = [a, b]\n",
    "longs = [c, d]\n",
    "\n",
    "#converting decimal degrees to radians \n",
    "\n",
    "c, a, d, b = map(radians, [c, a, d, b])\n",
    "\n",
    "print(longs[0])\n",
    "\n",
    "L = (lats[1])- (lats[0]) \n",
    "M = (long[1])- (long[0])\n",
    "\n",
    "a = sin(L/2)**2 + cos(lats[0])  * cos(lats[1]) * sin(M/2)**2\n",
    "\n",
    "c = 2* atan2(sqrt(a), sqrt(1-a))\n",
    "\n",
    "d = 6371 * c\n",
    "\n",
    "\n"
   ]
  },
  {
   "cell_type": "markdown",
   "id": "a625bd4d-1713-4d7a-a20d-8df54dde4195",
   "metadata": {},
   "source": [
    "### Pandas and NumPy"
   ]
  },
  {
   "cell_type": "code",
   "execution_count": 59,
   "id": "d09a91d8-5aa6-4d8b-873e-43869873b8b4",
   "metadata": {},
   "outputs": [],
   "source": [
    "# Pre-Exercises\n",
    "\n",
    "import numpy as np \n",
    "import pandas as pd"
   ]
  },
  {
   "cell_type": "code",
   "execution_count": null,
   "id": "e13c2b36-fab6-4430-a51f-4ddb25a6944d",
   "metadata": {},
   "outputs": [],
   "source": [
    "# Question 1 \n",
    "\n",
    "park_trees = pd.read_csv(\"data/portland_park_trees.csv\", sep=\",\", header=0, encoding=\"ISO-8859-1\")\n",
    "park_trees.head(5)\n",
    "\n",
    "\n",
    "quercus_and_acer = park_trees[(park_trees[\"Genus\"]==\"Quercus\") | (park_trees[\"Genus\"]==\"Acer\")]\n",
    "\n",
    "len(quercus_and_acer) \n",
    "\n",
    "# 5675 trees are of Quercus or Acer genus"
   ]
  },
  {
   "cell_type": "code",
   "execution_count": 85,
   "id": "937b7215-794a-4362-8a2e-54a59934edc0",
   "metadata": {},
   "outputs": [
    {
     "data": {
      "text/plain": [
       "124"
      ]
     },
     "execution_count": 85,
     "metadata": {},
     "output_type": "execute_result"
    }
   ],
   "source": [
    "# Question 2\n",
    "\n",
    "QA50 = quercus_and_acer[(quercus_and_acer[\"DBH\"]>50)]\n",
    "len(QA50)\n",
    "\n",
    "# 124 trees are of Quercus or Acer genus and have a DBH larger than 50 inches"
   ]
  },
  {
   "cell_type": "code",
   "execution_count": 92,
   "id": "c2be329d-1def-4d0e-8c7d-13d53ef9e287",
   "metadata": {},
   "outputs": [
    {
     "name": "stdout",
     "output_type": "stream",
     "text": [
      "23.56823839157492\n",
      "18.419085331846066\n",
      "11.033609693877551\n"
     ]
    }
   ],
   "source": [
    "# Question 3\n",
    "\n",
    "QuercusDF = park_trees[(park_trees[\"Genus\"]==\"Quercus\")]\n",
    "\n",
    "AcerDF = park_trees[(park_trees[\"Genus\"]==\"Acer\")]\n",
    "\n",
    "FraxinusDF = park_trees[(park_trees[\"Genus\"]==\"Fraxinus\")]\n",
    "\n",
    "a= QuercusDF[\"DBH\"].mean()\n",
    "b= AcerDF[\"DBH\"].mean()\n",
    "c= FraxinusDF[\"DBH\"].mean()\n",
    "\n",
    "print(a)\n",
    "print(b)\n",
    "print(c)\n",
    "\n",
    "#The Quercus genus, with a DBH mean of 23.56 has the highest mean of Quercus, Acer and Fraxinus"
   ]
  },
  {
   "cell_type": "code",
   "execution_count": null,
   "id": "f83175fa-c9be-470a-a822-d89cc43144ab",
   "metadata": {},
   "outputs": [],
   "source": [
    "# Question 4"
   ]
  },
  {
   "cell_type": "markdown",
   "id": "bc690c2b-692c-421c-a3ae-a6b909ebd78c",
   "metadata": {},
   "source": [
    "### Python Data Visualisation"
   ]
  },
  {
   "cell_type": "markdown",
   "id": "5037d2dc-bc3b-45b0-900c-66d48f94632f",
   "metadata": {},
   "source": [
    "### Python GeoPandas"
   ]
  },
  {
   "cell_type": "markdown",
   "id": "630db78e-7f75-48e0-883b-4f844407f481",
   "metadata": {},
   "source": [
    "### Python Rasterrio"
   ]
  }
 ],
 "metadata": {
  "kernelspec": {
   "display_name": "Python 3 (ipykernel)",
   "language": "python",
   "name": "python3"
  },
  "language_info": {
   "codemirror_mode": {
    "name": "ipython",
    "version": 3
   },
   "file_extension": ".py",
   "mimetype": "text/x-python",
   "name": "python",
   "nbconvert_exporter": "python",
   "pygments_lexer": "ipython3",
   "version": "3.10.9"
  }
 },
 "nbformat": 4,
 "nbformat_minor": 5
}
