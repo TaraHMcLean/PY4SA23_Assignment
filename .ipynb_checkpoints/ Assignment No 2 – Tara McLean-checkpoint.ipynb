{
 "cells": [
  {
   "cell_type": "markdown",
   "id": "46530e13-5e6d-499b-8114-6056ee51c45a",
   "metadata": {},
   "source": [
    "## Lab Assignment 2 – Tara McLean)\n",
    "## 180017741\n",
    "\n",
    "### https://github.com/TaraHMcLean/PY4SA23_Assignment\n",
    "\n",
    "\n",
    "### Make sure you create the outcomes of all the code cells.\n",
    "\n",
    "Once your finish all the tasks, and your Notebook has been pushed to your recently\n",
    "created repository. Using the print option in the Jupyter Notebook, create a print version \n",
    "of the notebook as a PDF file and submitted based on the submission procedure (listed\n",
    "below)"
   ]
  },
  {
   "cell_type": "markdown",
   "id": "1e1f5f5c-6644-4718-83d6-2e440436ba63",
   "metadata": {},
   "source": [
    "## Assignment Tasks"
   ]
  },
  {
   "cell_type": "markdown",
   "id": "09b4977f-e33c-4e6d-a9b9-c1c3859ae1b0",
   "metadata": {},
   "source": [
    "### Python Basics\n"
   ]
  },
  {
   "cell_type": "code",
   "execution_count": 10,
   "id": "b474528d-d715-4fc9-b604-e4660ef2f77e",
   "metadata": {},
   "outputs": [
    {
     "name": "stdout",
     "output_type": "stream",
     "text": [
      "6 is divisible by 3.\n"
     ]
    }
   ],
   "source": [
    "# Task 1\n",
    "x = 6\n",
    "\n",
    "if x % 3 == 0:\n",
    "    print(str(x) + \" is divisible by 3.\")\n",
    "else:\n",
    "    print(str(x) + \" is not divisible by three.\")"
   ]
  },
  {
   "cell_type": "code",
   "execution_count": 28,
   "id": "7c968824-ad71-4d82-ac57-69e32510904a",
   "metadata": {},
   "outputs": [
    {
     "name": "stdout",
     "output_type": "stream",
     "text": [
      "apple is acceptable.\n"
     ]
    }
   ],
   "source": [
    "# Task 2\n",
    "\n",
    "acceptable_fruits = ['apple', 'orange', 'pear', 'kiwi', 'strawberry']\n",
    "\n",
    "x = 'apple'\n",
    "\n",
    "if x in  acceptable_fruits:\n",
    "    print (str(x) + \" is acceptable.\")\n",
    "else: \n",
    "    print(str(x) + \" is not acceptable.\")\n",
    "\n",
    "    #if 'A' in l1:\n",
    "    #print('A is present in the list')\n",
    "\n",
    "\n",
    "\n"
   ]
  },
  {
   "cell_type": "markdown",
   "id": "a625bd4d-1713-4d7a-a20d-8df54dde4195",
   "metadata": {},
   "source": [
    "### Pandas and NumPy"
   ]
  },
  {
   "cell_type": "markdown",
   "id": "bc690c2b-692c-421c-a3ae-a6b909ebd78c",
   "metadata": {},
   "source": [
    "### Python Data Visualisation"
   ]
  },
  {
   "cell_type": "markdown",
   "id": "5037d2dc-bc3b-45b0-900c-66d48f94632f",
   "metadata": {},
   "source": [
    "### Python GeoPandas"
   ]
  },
  {
   "cell_type": "markdown",
   "id": "630db78e-7f75-48e0-883b-4f844407f481",
   "metadata": {},
   "source": [
    "### Python Rasterrio"
   ]
  }
 ],
 "metadata": {
  "kernelspec": {
   "display_name": "Python 3 (ipykernel)",
   "language": "python",
   "name": "python3"
  },
  "language_info": {
   "codemirror_mode": {
    "name": "ipython",
    "version": 3
   },
   "file_extension": ".py",
   "mimetype": "text/x-python",
   "name": "python",
   "nbconvert_exporter": "python",
   "pygments_lexer": "ipython3",
   "version": "3.10.9"
  }
 },
 "nbformat": 4,
 "nbformat_minor": 5
}
